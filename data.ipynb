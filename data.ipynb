{
  "nbformat": 4,
  "nbformat_minor": 0,
  "metadata": {
    "colab": {
      "name": "dbunk dataset creation",
      "provenance": [],
      "collapsed_sections": []
    },
    "kernelspec": {
      "name": "python3",
      "display_name": "Python 3"
    }
  },
  "cells": [
    {
      "cell_type": "code",
      "metadata": {
        "id": "9FgLjj7eQCW7",
        "colab_type": "code",
        "colab": {}
      },
      "source": [
        "!mkdir -p input\n",
        "!wget -q https://github.com/several27/FakeNewsCorpus/releases/download/v1.0/news.csv.z01 -O input/news.csv.z01\n",
        "!wget -q https://github.com/several27/FakeNewsCorpus/releases/download/v1.0/news.csv.z02 -O input/news.csv.z02\n",
        "!wget -q https://github.com/several27/FakeNewsCorpus/releases/download/v1.0/news.csv.z03 -O input/news.csv.z03\n",
        "!wget -q https://github.com/several27/FakeNewsCorpus/releases/download/v1.0/news.csv.z04 -O input/news.csv.z04\n",
        "!wget -q https://github.com/several27/FakeNewsCorpus/releases/download/v1.0/news.csv.z05 -O input/news.csv.z05\n",
        "!wget -q https://github.com/several27/FakeNewsCorpus/releases/download/v1.0/news.csv.z06 -O input/news.csv.z06\n",
        "!wget -q https://github.com/several27/FakeNewsCorpus/releases/download/v1.0/news.csv.z07 -O input/news.csv.z07\n",
        "!wget -q https://github.com/several27/FakeNewsCorpus/releases/download/v1.0/news.csv.z08 -O input/news.csv.z08\n",
        "!wget -q https://github.com/several27/FakeNewsCorpus/releases/download/v1.0/news.csv.z09 -O input/news.csv.z09\n",
        "!wget -q https://github.com/several27/FakeNewsCorpus/releases/download/v1.0/news.csv.zip -O input/news.csv.zip"
      ],
      "execution_count": 1,
      "outputs": []
    },
    {
      "cell_type": "code",
      "metadata": {
        "id": "WqCKC7ZHQTCF",
        "colab_type": "code",
        "colab": {}
      },
      "source": [
        "!cat input/news.csv.z* > input/all.zip"
      ],
      "execution_count": 2,
      "outputs": []
    },
    {
      "cell_type": "code",
      "metadata": {
        "id": "fpXejnhuSW_K",
        "colab_type": "code",
        "colab": {
          "base_uri": "https://localhost:8080/",
          "height": 225
        },
        "outputId": "3c0ea948-4156-4f55-ee4e-d7954e619889"
      },
      "source": [
        "!unzip input/all.zip -d input/"
      ],
      "execution_count": 3,
      "outputs": [
        {
          "output_type": "stream",
          "text": [
            "Archive:  input/all.zip\n",
            "error: End-of-centdir-64 signature not where expected (prepended bytes?)\n",
            "  (attempting to process anyway)\n",
            "warning [input/all.zip]:  zipfile claims to be last disk of a multi-part archive;\n",
            "  attempting to process anyway, assuming all parts have been concatenated\n",
            "  together in order.  Expect \"errors\" and warnings...true multi-part support\n",
            "  doesn't exist yet (coming soon).\n",
            "warning [input/all.zip]:  9663676416 extra bytes at beginning or within zipfile\n",
            "  (attempting to process anyway)\n",
            "file #1:  bad zipfile offset (local header sig):  9663676420\n",
            "  (attempting to re-compensate)\n",
            "  inflating: input/news_cleaned_2018_02_13.csv  \n"
          ],
          "name": "stdout"
        }
      ]
    },
    {
      "cell_type": "code",
      "metadata": {
        "id": "-HBIrfxnJs1Y",
        "colab_type": "code",
        "colab": {
          "base_uri": "https://localhost:8080/",
          "height": 35
        },
        "outputId": "2d022243-34c8-45e3-d362-17e65b0cb269"
      },
      "source": [
        "!rm input/news.csv.z* input/all.zip"
      ],
      "execution_count": 6,
      "outputs": [
        {
          "output_type": "stream",
          "text": [
            "rm: cannot remove 'input/all.zip': No such file or directory\n"
          ],
          "name": "stdout"
        }
      ]
    },
    {
      "cell_type": "code",
      "metadata": {
        "id": "q4BMfJJ1ePGg",
        "colab_type": "code",
        "colab": {}
      },
      "source": [
        "import tensorflow as tf\n",
        "import pandas as pd\n",
        "import itertools\n",
        "import random\n",
        "import sys\n",
        "import csv"
      ],
      "execution_count": 7,
      "outputs": []
    },
    {
      "cell_type": "code",
      "metadata": {
        "id": "-Sa3msFSl0nm",
        "colab_type": "code",
        "colab": {}
      },
      "source": [
        "numrows = 8528956"
      ],
      "execution_count": 8,
      "outputs": []
    },
    {
      "cell_type": "code",
      "metadata": {
        "id": "U7jSWpQ0z3kC",
        "colab_type": "code",
        "colab": {}
      },
      "source": [
        "def _int64_feature(value):\n",
        "    return tf.train.Feature(int64_list=tf.train.Int64List(value=[value]))\n",
        "\n",
        "def _bytes_feature(value):\n",
        "    return tf.train.Feature(bytes_list=tf.train.BytesList(value=[value]))"
      ],
      "execution_count": 9,
      "outputs": []
    },
    {
      "cell_type": "code",
      "metadata": {
        "id": "J2AuzeyJ73mr",
        "colab_type": "code",
        "colab": {}
      },
      "source": [
        "labels = []\n",
        "\n",
        "def get_label(label):\n",
        "    if label == \"\":\n",
        "        label = \"unknown\"\n",
        "    if label == \"2018-02-10 13:43:39.521661\":\n",
        "        label = \"unknown\"\n",
        "    if label not in labels:\n",
        "        labels.append(label)\n",
        "    return labels.index(label)"
      ],
      "execution_count": 10,
      "outputs": []
    },
    {
      "cell_type": "code",
      "metadata": {
        "id": "OKLnomfYzp7-",
        "colab_type": "code",
        "colab": {}
      },
      "source": [
        "def serialize_example(text, label):\n",
        "  feature = {\n",
        "      \"text\": _bytes_feature(text.encode(\"utf-8\")),\n",
        "      \"label\": _int64_feature(get_label(label)),\n",
        "  }\n",
        "\n",
        "  example = tf.train.Example(features=tf.train.Features(feature=feature))\n",
        "  return example.SerializeToString()"
      ],
      "execution_count": 11,
      "outputs": []
    },
    {
      "cell_type": "code",
      "metadata": {
        "id": "HP4vSDgG5IJ4",
        "colab_type": "code",
        "colab": {}
      },
      "source": [
        "project_id = \"alaska2-280023\"\n",
        "bucket_name = \"dbunk\""
      ],
      "execution_count": 42,
      "outputs": []
    },
    {
      "cell_type": "code",
      "metadata": {
        "id": "fSDZu9DX5VF7",
        "colab_type": "code",
        "colab": {}
      },
      "source": [
        "from google.colab import auth\n",
        "auth.authenticate_user()"
      ],
      "execution_count": 41,
      "outputs": []
    },
    {
      "cell_type": "code",
      "metadata": {
        "id": "KgpfXI0q5Zkf",
        "colab_type": "code",
        "colab": {
          "base_uri": "https://localhost:8080/",
          "height": 35
        },
        "outputId": "4999308d-0a0b-46b2-a22f-c5252cceb7ee"
      },
      "source": [
        "!gcloud config set project {project_id}"
      ],
      "execution_count": 43,
      "outputs": [
        {
          "output_type": "stream",
          "text": [
            "Updated property [core/project].\n"
          ],
          "name": "stdout"
        }
      ]
    },
    {
      "cell_type": "code",
      "metadata": {
        "id": "7dTG1EmErw4-",
        "colab_type": "code",
        "colab": {}
      },
      "source": [
        "!rm *.tfrecord"
      ],
      "execution_count": 16,
      "outputs": []
    },
    {
      "cell_type": "code",
      "metadata": {
        "id": "sYN3Es1ypTYu",
        "colab_type": "code",
        "colab": {}
      },
      "source": [
        "numwriters = numrows // 65536\n",
        "writers = [tf.io.TFRecordWriter(f\"{i}.tfrecord\") for i in range(numwriters)]\n",
        "nums = [0 for i in range(numwriters)]"
      ],
      "execution_count": 17,
      "outputs": []
    },
    {
      "cell_type": "code",
      "metadata": {
        "id": "Ip8FyJuyOqtp",
        "colab_type": "code",
        "colab": {
          "base_uri": "https://localhost:8080/",
          "height": 35
        },
        "outputId": "daff628b-0c6d-4a3f-c5e5-9579c81089a2"
      },
      "source": [
        "csv.field_size_limit(sys.maxsize)"
      ],
      "execution_count": null,
      "outputs": [
        {
          "output_type": "execute_result",
          "data": {
            "text/plain": [
              "9223372036854775807"
            ]
          },
          "metadata": {
            "tags": []
          },
          "execution_count": 20
        }
      ]
    },
    {
      "cell_type": "code",
      "metadata": {
        "id": "JapzOPeCpqfT",
        "colab_type": "code",
        "colab": {
          "base_uri": "https://localhost:8080/",
          "height": 605
        },
        "outputId": "414e0044-2a4f-418a-d3d4-986a3b5cb124"
      },
      "source": [
        "with open(\"input/news_cleaned_2018_02_13.csv\") as csvfile:\n",
        "    reader = csv.DictReader(csvfile)\n",
        "    reader = (row for row in reader if row[\"content\"])\n",
        "\n",
        "    for idx, row in enumerate(reader):\n",
        "        if idx % (numwriters * 2048) == 0:\n",
        "            print(\"writing \" + str(idx))\n",
        "\n",
        "        if idx >= 65536 * numwriters:\n",
        "            print(\"broke at \" + str(idx))\n",
        "            break\n",
        "\n",
        "        widx = idx % numwriters\n",
        "\n",
        "        if row[\"title\"]:\n",
        "            text = row[\"title\"] + \"\\n\\n\" + row[\"content\"]\n",
        "        else:\n",
        "            text = row[\"content\"]\n",
        "        \n",
        "        example = serialize_example(text[:1000], row[\"type\"])\n",
        "        writers[widx].write(example)\n",
        "        nums[widx] += 1"
      ],
      "execution_count": 21,
      "outputs": [
        {
          "output_type": "stream",
          "text": [
            "writing 0\n",
            "writing 266240\n",
            "writing 532480\n",
            "writing 798720\n",
            "writing 1064960\n",
            "writing 1331200\n",
            "writing 1597440\n",
            "writing 1863680\n",
            "writing 2129920\n",
            "writing 2396160\n",
            "writing 2662400\n",
            "writing 2928640\n",
            "writing 3194880\n",
            "writing 3461120\n",
            "writing 3727360\n",
            "writing 3993600\n",
            "writing 4259840\n",
            "writing 4526080\n",
            "writing 4792320\n",
            "writing 5058560\n",
            "writing 5324800\n",
            "writing 5591040\n",
            "writing 5857280\n",
            "writing 6123520\n",
            "writing 6389760\n",
            "writing 6656000\n",
            "writing 6922240\n",
            "writing 7188480\n",
            "writing 7454720\n",
            "writing 7720960\n",
            "writing 7987200\n",
            "writing 8253440\n",
            "writing 8519680\n",
            "broke at 8519680\n"
          ],
          "name": "stdout"
        }
      ]
    },
    {
      "cell_type": "code",
      "metadata": {
        "id": "XqRHSMMywSrp",
        "colab_type": "code",
        "colab": {
          "base_uri": "https://localhost:8080/",
          "height": 1000
        },
        "outputId": "3f065435-7832-4433-90c0-c9ccb37f78c8"
      },
      "source": [
        "nums"
      ],
      "execution_count": 22,
      "outputs": [
        {
          "output_type": "execute_result",
          "data": {
            "text/plain": [
              "[65536,\n",
              " 65536,\n",
              " 65536,\n",
              " 65536,\n",
              " 65536,\n",
              " 65536,\n",
              " 65536,\n",
              " 65536,\n",
              " 65536,\n",
              " 65536,\n",
              " 65536,\n",
              " 65536,\n",
              " 65536,\n",
              " 65536,\n",
              " 65536,\n",
              " 65536,\n",
              " 65536,\n",
              " 65536,\n",
              " 65536,\n",
              " 65536,\n",
              " 65536,\n",
              " 65536,\n",
              " 65536,\n",
              " 65536,\n",
              " 65536,\n",
              " 65536,\n",
              " 65536,\n",
              " 65536,\n",
              " 65536,\n",
              " 65536,\n",
              " 65536,\n",
              " 65536,\n",
              " 65536,\n",
              " 65536,\n",
              " 65536,\n",
              " 65536,\n",
              " 65536,\n",
              " 65536,\n",
              " 65536,\n",
              " 65536,\n",
              " 65536,\n",
              " 65536,\n",
              " 65536,\n",
              " 65536,\n",
              " 65536,\n",
              " 65536,\n",
              " 65536,\n",
              " 65536,\n",
              " 65536,\n",
              " 65536,\n",
              " 65536,\n",
              " 65536,\n",
              " 65536,\n",
              " 65536,\n",
              " 65536,\n",
              " 65536,\n",
              " 65536,\n",
              " 65536,\n",
              " 65536,\n",
              " 65536,\n",
              " 65536,\n",
              " 65536,\n",
              " 65536,\n",
              " 65536,\n",
              " 65536,\n",
              " 65536,\n",
              " 65536,\n",
              " 65536,\n",
              " 65536,\n",
              " 65536,\n",
              " 65536,\n",
              " 65536,\n",
              " 65536,\n",
              " 65536,\n",
              " 65536,\n",
              " 65536,\n",
              " 65536,\n",
              " 65536,\n",
              " 65536,\n",
              " 65536,\n",
              " 65536,\n",
              " 65536,\n",
              " 65536,\n",
              " 65536,\n",
              " 65536,\n",
              " 65536,\n",
              " 65536,\n",
              " 65536,\n",
              " 65536,\n",
              " 65536,\n",
              " 65536,\n",
              " 65536,\n",
              " 65536,\n",
              " 65536,\n",
              " 65536,\n",
              " 65536,\n",
              " 65536,\n",
              " 65536,\n",
              " 65536,\n",
              " 65536,\n",
              " 65536,\n",
              " 65536,\n",
              " 65536,\n",
              " 65536,\n",
              " 65536,\n",
              " 65536,\n",
              " 65536,\n",
              " 65536,\n",
              " 65536,\n",
              " 65536,\n",
              " 65536,\n",
              " 65536,\n",
              " 65536,\n",
              " 65536,\n",
              " 65536,\n",
              " 65536,\n",
              " 65536,\n",
              " 65536,\n",
              " 65536,\n",
              " 65536,\n",
              " 65536,\n",
              " 65536,\n",
              " 65536,\n",
              " 65536,\n",
              " 65536,\n",
              " 65536,\n",
              " 65536,\n",
              " 65536,\n",
              " 65536,\n",
              " 65536]"
            ]
          },
          "metadata": {
            "tags": []
          },
          "execution_count": 22
        }
      ]
    },
    {
      "cell_type": "code",
      "metadata": {
        "id": "JVINuBK5wfXG",
        "colab_type": "code",
        "colab": {
          "base_uri": "https://localhost:8080/",
          "height": 1000
        },
        "outputId": "98639129-3a76-4896-d5d2-3ad08373bbe3"
      },
      "source": [
        "!gsutil -m cp *.tfrecord gs://dbunk"
      ],
      "execution_count": 44,
      "outputs": [
        {
          "output_type": "stream",
          "text": [
            "Copying file://100.tfrecord [Content-Type=application/octet-stream]...\n",
            "Copying file://0.tfrecord [Content-Type=application/octet-stream]...\n",
            "/ [0/130 files][    0.0 B/  7.1 GiB]   0% Done                                  \r/ [0/130 files][    0.0 B/  7.1 GiB]   0% Done                                  \rCopying file://107.tfrecord [Content-Type=application/octet-stream]...\n",
            "/ [0/130 files][    0.0 B/  7.1 GiB]   0% Done                                  \rCopying file://108.tfrecord [Content-Type=application/octet-stream]...\n",
            "/ [0/130 files][    0.0 B/  7.1 GiB]   0% Done                                  \rCopying file://104.tfrecord [Content-Type=application/octet-stream]...\n",
            "/ [0/130 files][    0.0 B/  7.1 GiB]   0% Done                                  \rCopying file://106.tfrecord [Content-Type=application/octet-stream]...\n",
            "/ [0/130 files][    0.0 B/  7.1 GiB]   0% Done                                  \rCopying file://105.tfrecord [Content-Type=application/octet-stream]...\n",
            "/ [0/130 files][    0.0 B/  7.1 GiB]   0% Done                                  \rCopying file://101.tfrecord [Content-Type=application/octet-stream]...\n",
            "/ [0/130 files][    0.0 B/  7.1 GiB]   0% Done                                  \rCopying file://103.tfrecord [Content-Type=application/octet-stream]...\n",
            "Copying file://102.tfrecord [Content-Type=application/octet-stream]...\n",
            "Copying file://109.tfrecord [Content-Type=application/octet-stream]...\n",
            "Copying file://10.tfrecord [Content-Type=application/octet-stream]...\n",
            "Copying file://110.tfrecord [Content-Type=application/octet-stream]...\n",
            "Copying file://111.tfrecord [Content-Type=application/octet-stream]...\n",
            "Copying file://112.tfrecord [Content-Type=application/octet-stream]...\n",
            "Copying file://113.tfrecord [Content-Type=application/octet-stream]...\n",
            "Copying file://114.tfrecord [Content-Type=application/octet-stream]...\n",
            "Copying file://115.tfrecord [Content-Type=application/octet-stream]...\n",
            "Copying file://117.tfrecord [Content-Type=application/octet-stream]...\n",
            "Copying file://116.tfrecord [Content-Type=application/octet-stream]...\n",
            "Copying file://118.tfrecord [Content-Type=application/octet-stream]...\n",
            "Copying file://119.tfrecord [Content-Type=application/octet-stream]...\n",
            "Copying file://11.tfrecord [Content-Type=application/octet-stream]...\n",
            "Copying file://120.tfrecord [Content-Type=application/octet-stream]...\n",
            "Copying file://121.tfrecord [Content-Type=application/octet-stream]...\n",
            "Copying file://122.tfrecord [Content-Type=application/octet-stream]...\n",
            "Copying file://123.tfrecord [Content-Type=application/octet-stream]...\n",
            "Copying file://124.tfrecord [Content-Type=application/octet-stream]...\n",
            "Copying file://125.tfrecord [Content-Type=application/octet-stream]...\n",
            "Copying file://126.tfrecord [Content-Type=application/octet-stream]...\n",
            "Copying file://127.tfrecord [Content-Type=application/octet-stream]...\n",
            "Copying file://128.tfrecord [Content-Type=application/octet-stream]...\n",
            "Copying file://129.tfrecord [Content-Type=application/octet-stream]...\n",
            "Copying file://12.tfrecord [Content-Type=application/octet-stream]...\n",
            "Copying file://13.tfrecord [Content-Type=application/octet-stream]...\n",
            "Copying file://14.tfrecord [Content-Type=application/octet-stream]...\n",
            "Copying file://15.tfrecord [Content-Type=application/octet-stream]...\n",
            "Copying file://16.tfrecord [Content-Type=application/octet-stream]...\n",
            "Copying file://17.tfrecord [Content-Type=application/octet-stream]...\n",
            "Copying file://18.tfrecord [Content-Type=application/octet-stream]...\n",
            "Copying file://19.tfrecord [Content-Type=application/octet-stream]...\n",
            "Copying file://1.tfrecord [Content-Type=application/octet-stream]...\n",
            "Copying file://20.tfrecord [Content-Type=application/octet-stream]...\n",
            "Copying file://21.tfrecord [Content-Type=application/octet-stream]...\n",
            "Copying file://22.tfrecord [Content-Type=application/octet-stream]...\n",
            "Copying file://23.tfrecord [Content-Type=application/octet-stream]...\n",
            "Copying file://24.tfrecord [Content-Type=application/octet-stream]...\n",
            "Copying file://25.tfrecord [Content-Type=application/octet-stream]...\n",
            "Copying file://26.tfrecord [Content-Type=application/octet-stream]...\n",
            "Copying file://27.tfrecord [Content-Type=application/octet-stream]...\n",
            "Copying file://28.tfrecord [Content-Type=application/octet-stream]...\n",
            "Copying file://29.tfrecord [Content-Type=application/octet-stream]...\n",
            "Copying file://2.tfrecord [Content-Type=application/octet-stream]...\n",
            "Copying file://30.tfrecord [Content-Type=application/octet-stream]...\n",
            "Copying file://31.tfrecord [Content-Type=application/octet-stream]...\n",
            "Copying file://32.tfrecord [Content-Type=application/octet-stream]...\n",
            "Copying file://33.tfrecord [Content-Type=application/octet-stream]...\n",
            "Copying file://34.tfrecord [Content-Type=application/octet-stream]...\n",
            "Copying file://35.tfrecord [Content-Type=application/octet-stream]...\n",
            "Copying file://36.tfrecord [Content-Type=application/octet-stream]...\n",
            "Copying file://37.tfrecord [Content-Type=application/octet-stream]...\n",
            "Copying file://38.tfrecord [Content-Type=application/octet-stream]...\n",
            "Copying file://39.tfrecord [Content-Type=application/octet-stream]...\n",
            "Copying file://3.tfrecord [Content-Type=application/octet-stream]...\n",
            "Copying file://40.tfrecord [Content-Type=application/octet-stream]...\n",
            "Copying file://41.tfrecord [Content-Type=application/octet-stream]...\n",
            "Copying file://42.tfrecord [Content-Type=application/octet-stream]...\n",
            "Copying file://43.tfrecord [Content-Type=application/octet-stream]...\n",
            "Copying file://44.tfrecord [Content-Type=application/octet-stream]...\n",
            "Copying file://45.tfrecord [Content-Type=application/octet-stream]...\n",
            "Copying file://46.tfrecord [Content-Type=application/octet-stream]...\n",
            "Copying file://47.tfrecord [Content-Type=application/octet-stream]...\n",
            "Copying file://48.tfrecord [Content-Type=application/octet-stream]...\n",
            "Copying file://49.tfrecord [Content-Type=application/octet-stream]...\n",
            "Copying file://4.tfrecord [Content-Type=application/octet-stream]...\n",
            "Copying file://50.tfrecord [Content-Type=application/octet-stream]...\n",
            "Copying file://51.tfrecord [Content-Type=application/octet-stream]...\n",
            "Copying file://52.tfrecord [Content-Type=application/octet-stream]...\n",
            "Copying file://53.tfrecord [Content-Type=application/octet-stream]...\n",
            "Copying file://54.tfrecord [Content-Type=application/octet-stream]...\n",
            "Copying file://55.tfrecord [Content-Type=application/octet-stream]...\n",
            "Copying file://56.tfrecord [Content-Type=application/octet-stream]...\n",
            "Copying file://57.tfrecord [Content-Type=application/octet-stream]...\n",
            "Copying file://58.tfrecord [Content-Type=application/octet-stream]...\n",
            "Copying file://59.tfrecord [Content-Type=application/octet-stream]...\n",
            "Copying file://5.tfrecord [Content-Type=application/octet-stream]...\n",
            "Copying file://60.tfrecord [Content-Type=application/octet-stream]...\n",
            "Copying file://61.tfrecord [Content-Type=application/octet-stream]...\n",
            "Copying file://62.tfrecord [Content-Type=application/octet-stream]...\n",
            "Copying file://63.tfrecord [Content-Type=application/octet-stream]...\n",
            "Copying file://64.tfrecord [Content-Type=application/octet-stream]...\n",
            "Copying file://65.tfrecord [Content-Type=application/octet-stream]...\n",
            "Copying file://66.tfrecord [Content-Type=application/octet-stream]...\n",
            "Copying file://67.tfrecord [Content-Type=application/octet-stream]...\n",
            "Copying file://68.tfrecord [Content-Type=application/octet-stream]...\n",
            "Copying file://69.tfrecord [Content-Type=application/octet-stream]...\n",
            "Copying file://6.tfrecord [Content-Type=application/octet-stream]...\n",
            "Copying file://70.tfrecord [Content-Type=application/octet-stream]...\n",
            "Copying file://71.tfrecord [Content-Type=application/octet-stream]...\n",
            "Copying file://72.tfrecord [Content-Type=application/octet-stream]...\n",
            "Copying file://73.tfrecord [Content-Type=application/octet-stream]...\n",
            "Copying file://74.tfrecord [Content-Type=application/octet-stream]...\n",
            "Copying file://75.tfrecord [Content-Type=application/octet-stream]...\n",
            "Copying file://76.tfrecord [Content-Type=application/octet-stream]...\n",
            "Copying file://77.tfrecord [Content-Type=application/octet-stream]...\n",
            "Copying file://78.tfrecord [Content-Type=application/octet-stream]...\n",
            "Copying file://79.tfrecord [Content-Type=application/octet-stream]...\n",
            "Copying file://7.tfrecord [Content-Type=application/octet-stream]...\n",
            "Copying file://80.tfrecord [Content-Type=application/octet-stream]...\n",
            "Copying file://81.tfrecord [Content-Type=application/octet-stream]...\n",
            "Copying file://82.tfrecord [Content-Type=application/octet-stream]...\n",
            "Copying file://83.tfrecord [Content-Type=application/octet-stream]...\n",
            "Copying file://84.tfrecord [Content-Type=application/octet-stream]...\n",
            "Copying file://85.tfrecord [Content-Type=application/octet-stream]...\n",
            "Copying file://86.tfrecord [Content-Type=application/octet-stream]...\n",
            "Copying file://87.tfrecord [Content-Type=application/octet-stream]...\n",
            "Copying file://88.tfrecord [Content-Type=application/octet-stream]...\n",
            "Copying file://89.tfrecord [Content-Type=application/octet-stream]...\n",
            "Copying file://8.tfrecord [Content-Type=application/octet-stream]...\n",
            "Copying file://90.tfrecord [Content-Type=application/octet-stream]...\n",
            "Copying file://91.tfrecord [Content-Type=application/octet-stream]...\n",
            "Copying file://92.tfrecord [Content-Type=application/octet-stream]...\n",
            "Copying file://93.tfrecord [Content-Type=application/octet-stream]...\n",
            "Copying file://94.tfrecord [Content-Type=application/octet-stream]...\n",
            "Copying file://95.tfrecord [Content-Type=application/octet-stream]...\n",
            "Copying file://96.tfrecord [Content-Type=application/octet-stream]...\n",
            "Copying file://97.tfrecord [Content-Type=application/octet-stream]...\n",
            "Copying file://98.tfrecord [Content-Type=application/octet-stream]...\n",
            "Copying file://99.tfrecord [Content-Type=application/octet-stream]...\n",
            "Copying file://9.tfrecord [Content-Type=application/octet-stream]...\n",
            "| [130/130 files][  7.1 GiB/  7.1 GiB] 100% Done  46.7 MiB/s ETA 00:00:00       \n",
            "Operation completed over 130 objects/7.1 GiB.                                    \n"
          ],
          "name": "stdout"
        }
      ]
    },
    {
      "cell_type": "code",
      "metadata": {
        "id": "rMhoLhl8UGPS",
        "colab_type": "code",
        "colab": {}
      },
      "source": [
        "for i in writers:\n",
        "    i.close()"
      ],
      "execution_count": 36,
      "outputs": []
    },
    {
      "cell_type": "code",
      "metadata": {
        "id": "xTI5blN4D9y0",
        "colab_type": "code",
        "colab": {
          "base_uri": "https://localhost:8080/",
          "height": 225
        },
        "outputId": "7ba02914-2dce-4272-a751-060ee1b57a0c"
      },
      "source": [
        "labels"
      ],
      "execution_count": null,
      "outputs": [
        {
          "output_type": "execute_result",
          "data": {
            "text/plain": [
              "['rumor',\n",
              " 'hate',\n",
              " 'unreliable',\n",
              " 'conspiracy',\n",
              " 'clickbait',\n",
              " 'satire',\n",
              " 'fake',\n",
              " 'reliable',\n",
              " 'bias',\n",
              " 'political',\n",
              " 'junksci',\n",
              " 'unknown']"
            ]
          },
          "metadata": {
            "tags": []
          },
          "execution_count": 82
        }
      ]
    },
    {
      "cell_type": "code",
      "metadata": {
        "id": "YbWBkZvz4LYS",
        "colab_type": "code",
        "colab": {}
      },
      "source": [
        ""
      ],
      "execution_count": null,
      "outputs": []
    }
  ]
}